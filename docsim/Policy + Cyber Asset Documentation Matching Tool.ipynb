{
 "cells": [
  {
   "cell_type": "code",
   "execution_count": 3,
   "metadata": {},
   "outputs": [
    {
     "name": "stderr",
     "output_type": "stream",
     "text": [
      "[nltk_data] Downloading package wordnet to\n",
      "[nltk_data]     /Users/neeldatta/nltk_data...\n",
      "[nltk_data]   Package wordnet is already up-to-date!\n"
     ]
    }
   ],
   "source": [
    "import json\n",
    "import docsim\n",
    "import re\n",
    "import csv\n",
    "import nltk\n",
    "nltk.download('wordnet')\n",
    "from urllib.request import urlopen\n",
    "from urllib.error import HTTPError\n",
    "import pandas as pd\n",
    "from bs4 import BeautifulSoup\n",
    "from tfidf import rank_documents\n",
    "from pathlib import Path"
   ]
  },
  {
   "cell_type": "markdown",
   "metadata": {},
   "source": [
    "## File creation tool and cyber asset xml creation tool"
   ]
  },
  {
   "cell_type": "code",
   "execution_count": 11,
   "metadata": {},
   "outputs": [],
   "source": [
    "# File creation tool: prompts user input to write in file with inputted name.\n",
    "# If file name is taken, ask to overwrite, then overwrite.\n",
    "def createFile():\n",
    "    home = str(Path.home())\n",
    "    directory = home+\"/projects/docsim/\"\n",
    "    \n",
    "    # get fileName from user\n",
    "    filepath = directory + input(\"Enter filename: \")\n",
    "    \n",
    "    # Creates a new file\n",
    "    with open(filepath, 'w+') as fp:\n",
    "        pass\n",
    "    return\n",
    "\n",
    "# XML Creation tool, searches inputted URL for all urls and creates an xml with all \n",
    "# sub-URLs.\n",
    "def createXML(URLin):\n",
    "    return\n",
    "\n",
    "## Return CSV file with each "
   ]
  },
  {
   "cell_type": "markdown",
   "metadata": {},
   "source": [
    "## Test that creation tool is returning xml files in proper format for policy matching tool."
   ]
  },
  {
   "cell_type": "code",
   "execution_count": 10,
   "metadata": {},
   "outputs": [],
   "source": [
    "# Run TFIDF ranking on one search query with preloaded XML file.\n",
    "\n",
    "# Run TFIDF ranking on one search query with XML file created by createXML.\n"
   ]
  },
  {
   "cell_type": "code",
   "execution_count": null,
   "metadata": {},
   "outputs": [],
   "source": []
  }
 ],
 "metadata": {
  "kernelspec": {
   "display_name": "Python 3",
   "language": "python",
   "name": "python3"
  },
  "language_info": {
   "codemirror_mode": {
    "name": "ipython",
    "version": 3
   },
   "file_extension": ".py",
   "mimetype": "text/x-python",
   "name": "python",
   "nbconvert_exporter": "python",
   "pygments_lexer": "ipython3",
   "version": "3.7.6"
  }
 },
 "nbformat": 4,
 "nbformat_minor": 4
}
