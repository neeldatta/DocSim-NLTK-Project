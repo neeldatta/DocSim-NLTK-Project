{
 "cells": [
  {
   "cell_type": "markdown",
   "metadata": {},
   "source": [
    "# Matching ISO Policies to Cyber Asset Documentation using DocSim Semantic Similarity Scoring\n",
    "\n",
    "#### Neel Datta\n",
    "#### July 2021\n",
    "\n",
    "This notebook makes use of the NLP document-similarity tool to match cyber assets (such as AWS IAM) to security policies in order to check whether a cyber asset(s) sufficiently satisifies the given requirements.\n"
   ]
  },
  {
   "cell_type": "code",
   "execution_count": 1,
   "metadata": {},
   "outputs": [],
   "source": [
    "import json\n",
    "import docsim\n",
    "import re\n",
    "import csv\n",
    "from urllib.request import urlopen\n",
    "from urllib.error import HTTPError\n",
    "import pandas as pd\n",
    "from bs4 import BeautifulSoup"
   ]
  },
  {
   "cell_type": "code",
   "execution_count": 2,
   "metadata": {},
   "outputs": [
    {
     "name": "stdout",
     "output_type": "stream",
     "text": [
      "Loading default GloVe word vector model: glove-wiki-gigaword-50\n",
      "Model loaded\n",
      "CPU times: user 27.1 s, sys: 302 ms, total: 27.4 s\n",
      "Wall time: 27.9 s\n"
     ]
    }
   ],
   "source": [
    "%%time\n",
    "\n",
    "docsim_obj = docsim.DocSim(verbose=True)\n",
    "# docsim_obj = docsim.DocSim_threaded(verbose=True)"
   ]
  },
  {
   "cell_type": "code",
   "execution_count": 3,
   "metadata": {},
   "outputs": [
    {
     "name": "stdout",
     "output_type": "stream",
     "text": [
      "Model ready: True\n"
     ]
    }
   ],
   "source": [
    "print(f'Model ready: {docsim_obj.model_ready}')"
   ]
  },
  {
   "cell_type": "markdown",
   "metadata": {},
   "source": [
    "## Methods "
   ]
  },
  {
   "cell_type": "code",
   "execution_count": 4,
   "metadata": {},
   "outputs": [],
   "source": [
    "# Function that takes in xml file of a list of URLs and converts to string list where each string is a URL\n",
    "def xmlToList(xml): \n",
    "    with open(xml, 'r') as f:\n",
    "        temp = f.read()\n",
    "    temp = re.findall(\"<loc>.*?</loc>\", temp)\n",
    "    strlist = []\n",
    "    for s in temp:\n",
    "        s = s[5:-6]\n",
    "        strlist.append(s)\n",
    "    return strlist\n",
    "    \n",
    "# Function that converts each url into a title + Data node in JSON\n",
    "def htmlToJSON(htmlIn, JSONout):\n",
    "    data = {}\n",
    "    data['data'] = []\n",
    "    for url in htmlIn:\n",
    "        while True:\n",
    "            try:\n",
    "                dpoint = [url]\n",
    "                page = urlopen(url)\n",
    "                html = page.read().decode(\"ISO-8859-1\")\n",
    "                soup = BeautifulSoup(html)\n",
    "                dpoint.append(soup.get_text())\n",
    "                data['data'].append(dpoint)\n",
    "                break\n",
    "            except HTTPError:\n",
    "                print (\"HTTPError at url: \" + url)\n",
    "                break\n",
    "    with open(JSONout, 'w') as outfile:\n",
    "        json.dump(data, outfile)\n",
    "    return\n",
    "\n",
    "# Function that converts the list of controls/policies from a JupiterOne PDF into a list of strings\n",
    "def JSONToList(JSONin):\n",
    "    policies = pd.read_json(JSONin)\n",
    "    plist = []\n",
    "    for sec in policies['sections']:\n",
    "        for req in sec['requirements']:\n",
    "            plist.append(sec['title'] + ' ' + req['ref'] + ' : ' + req['title'] + ' : ' + req['summary'])\n",
    "    return plist\n",
    "  \n",
    "    \n",
    "\n",
    "# Function that iterates through each of the controls and compares using docsim with the JSON documents\n",
    "# and outputs file with top 5 matches for each.\n",
    "    # Takes in xml list of all URLs to compare, loads them into input urlJSON files, and outputs a CSV of each control\n",
    "    # and the 5 urls most similar to it\n",
    "    \n",
    "def finalMatches(xmlIn, urlJSON, policyJSON, CSVOut, n):\n",
    "    htmlToJSON(xmlToList(xmlIn), urlJSON)\n",
    "    policies = JSONToList(policyJSON)\n",
    "    \n",
    "#Currently only testing on the first n policies for runtime/testing purposes\n",
    "    policies = policies[:n]\n",
    "    \n",
    "# Load test data\n",
    "    with open(urlJSON) as in_file:\n",
    "        urldata = json.load(in_file)\n",
    "    titles = [item[0] for item in urldata['data']]\n",
    "    documents = [item[1] for item in urldata['data']]\n",
    "    print(f'{len(documents)} documents')\n",
    "    \n",
    "# Output findings into CSV file:\n",
    "    with open(CSVOut, mode = 'w') as csvfile:\n",
    "        data = csv.writer(csvfile, delimiter=',', quotechar='\"', quoting=csv.QUOTE_MINIMAL)\n",
    "        data.writerow(['Policy', 'Score', 'URL'])\n",
    "        for p in policies:\n",
    "            query_string = p\n",
    "            similarities = docsim_obj.similarity_query(query_string, documents)\n",
    "            for idx, score in (sorted(enumerate(similarities), reverse=True, key=lambda x: x[1])[:5]):\n",
    "                data.writerow([query_string, str(score), titles[idx]])\n",
    "    return"
   ]
  },
  {
   "cell_type": "markdown",
   "metadata": {},
   "source": [
    "## Testing: \n",
    "\n",
    "### Testing the final matching method, which takes in list of policies and URLS and outputs CSV of each policy and its top closest URLs in terms of semantic similarity."
   ]
  },
  {
   "cell_type": "code",
   "execution_count": 14,
   "metadata": {},
   "outputs": [
    {
     "name": "stdout",
     "output_type": "stream",
     "text": [
      "HTTPError at url: https://docs.aws.amazon.com/IAM/latest/service-authorization/latest/reference/reference_policies_actions-resources-contextkeys.html\n",
      "HTTPError at url: https://docs.aws.amazon.com/IAM/latest/service-authorization/latest/reference/list_awssecretsmanager.html\n",
      "HTTPError at url: https://docs.aws.amazon.com/IAM/latest/service-authorization/latest/reference/list_awskeymanagementservice.html\n",
      "HTTPError at url: https://docs.aws.amazon.com/IAM/latest/service-authorization/latest/reference/list_identityandaccessmanagement.html\n",
      "485 documents\n",
      "485 documents loaded into corpus\n",
      "485 documents loaded into corpus\n"
     ]
    },
    {
     "name": "stderr",
     "output_type": "stream",
     "text": [
      "/opt/anaconda3/lib/python3.7/site-packages/gensim/similarities/termsim.py:358: RuntimeWarning: divide by zero encountered in true_divide\n",
      "  Y = np.multiply(Y, 1 / np.sqrt(Y_norm))\n",
      "/opt/anaconda3/lib/python3.7/site-packages/gensim/similarities/termsim.py:358: RuntimeWarning: invalid value encountered in multiply\n",
      "  Y = np.multiply(Y, 1 / np.sqrt(Y_norm))\n"
     ]
    },
    {
     "name": "stdout",
     "output_type": "stream",
     "text": [
      "485 documents loaded into corpus\n"
     ]
    },
    {
     "name": "stderr",
     "output_type": "stream",
     "text": [
      "/opt/anaconda3/lib/python3.7/site-packages/gensim/similarities/termsim.py:358: RuntimeWarning: divide by zero encountered in true_divide\n",
      "  Y = np.multiply(Y, 1 / np.sqrt(Y_norm))\n",
      "/opt/anaconda3/lib/python3.7/site-packages/gensim/similarities/termsim.py:358: RuntimeWarning: invalid value encountered in multiply\n",
      "  Y = np.multiply(Y, 1 / np.sqrt(Y_norm))\n"
     ]
    },
    {
     "name": "stdout",
     "output_type": "stream",
     "text": [
      "485 documents loaded into corpus\n"
     ]
    },
    {
     "name": "stderr",
     "output_type": "stream",
     "text": [
      "/opt/anaconda3/lib/python3.7/site-packages/gensim/similarities/termsim.py:358: RuntimeWarning: divide by zero encountered in true_divide\n",
      "  Y = np.multiply(Y, 1 / np.sqrt(Y_norm))\n",
      "/opt/anaconda3/lib/python3.7/site-packages/gensim/similarities/termsim.py:358: RuntimeWarning: invalid value encountered in multiply\n",
      "  Y = np.multiply(Y, 1 / np.sqrt(Y_norm))\n"
     ]
    },
    {
     "name": "stdout",
     "output_type": "stream",
     "text": [
      "485 documents loaded into corpus\n"
     ]
    },
    {
     "data": {
      "text/html": [
       "<div>\n",
       "<style scoped>\n",
       "    .dataframe tbody tr th:only-of-type {\n",
       "        vertical-align: middle;\n",
       "    }\n",
       "\n",
       "    .dataframe tbody tr th {\n",
       "        vertical-align: top;\n",
       "    }\n",
       "\n",
       "    .dataframe thead th {\n",
       "        text-align: right;\n",
       "    }\n",
       "</style>\n",
       "<table border=\"1\" class=\"dataframe\">\n",
       "  <thead>\n",
       "    <tr style=\"text-align: right;\">\n",
       "      <th></th>\n",
       "      <th>Policy</th>\n",
       "      <th>Score</th>\n",
       "      <th>URL</th>\n",
       "    </tr>\n",
       "  </thead>\n",
       "  <tbody>\n",
       "    <tr>\n",
       "      <th>0</th>\n",
       "      <td>5 - Information Security Policies 5.1.1 : Poli...</td>\n",
       "      <td>0.638876</td>\n",
       "      <td>https://docs.aws.amazon.com/IAM/latest/UserGui...</td>\n",
       "    </tr>\n",
       "    <tr>\n",
       "      <th>1</th>\n",
       "      <td>5 - Information Security Policies 5.1.1 : Poli...</td>\n",
       "      <td>0.601462</td>\n",
       "      <td>https://docs.aws.amazon.com/IAM/latest/UserGui...</td>\n",
       "    </tr>\n",
       "    <tr>\n",
       "      <th>2</th>\n",
       "      <td>5 - Information Security Policies 5.1.1 : Poli...</td>\n",
       "      <td>0.597436</td>\n",
       "      <td>https://docs.aws.amazon.com/IAM/latest/UserGui...</td>\n",
       "    </tr>\n",
       "    <tr>\n",
       "      <th>3</th>\n",
       "      <td>5 - Information Security Policies 5.1.1 : Poli...</td>\n",
       "      <td>0.579919</td>\n",
       "      <td>https://docs.aws.amazon.com/IAM/latest/UserGui...</td>\n",
       "    </tr>\n",
       "    <tr>\n",
       "      <th>4</th>\n",
       "      <td>5 - Information Security Policies 5.1.1 : Poli...</td>\n",
       "      <td>0.575602</td>\n",
       "      <td>https://docs.aws.amazon.com/IAM/latest/UserGui...</td>\n",
       "    </tr>\n",
       "  </tbody>\n",
       "</table>\n",
       "</div>"
      ],
      "text/plain": [
       "                                              Policy     Score  \\\n",
       "0  5 - Information Security Policies 5.1.1 : Poli...  0.638876   \n",
       "1  5 - Information Security Policies 5.1.1 : Poli...  0.601462   \n",
       "2  5 - Information Security Policies 5.1.1 : Poli...  0.597436   \n",
       "3  5 - Information Security Policies 5.1.1 : Poli...  0.579919   \n",
       "4  5 - Information Security Policies 5.1.1 : Poli...  0.575602   \n",
       "\n",
       "                                                 URL  \n",
       "0  https://docs.aws.amazon.com/IAM/latest/UserGui...  \n",
       "1  https://docs.aws.amazon.com/IAM/latest/UserGui...  \n",
       "2  https://docs.aws.amazon.com/IAM/latest/UserGui...  \n",
       "3  https://docs.aws.amazon.com/IAM/latest/UserGui...  \n",
       "4  https://docs.aws.amazon.com/IAM/latest/UserGui...  "
      ]
     },
     "execution_count": 14,
     "metadata": {},
     "output_type": "execute_result"
    }
   ],
   "source": [
    "finalMatches('IAMurlsexample.xml', 'IAMurlsexample.JSON', \n",
    "             'ISO27002J1.JSON',\n",
    "            'examplecsv.txt', 5)\n",
    "scoring = pd.read_csv('examplecsv.txt')\n",
    "scoring.head()"
   ]
  },
  {
   "cell_type": "markdown",
   "metadata": {},
   "source": [
    "### Testing each individual method."
   ]
  },
  {
   "cell_type": "code",
   "execution_count": 5,
   "metadata": {
    "scrolled": true
   },
   "outputs": [
    {
     "name": "stdout",
     "output_type": "stream",
     "text": [
      "489 URLs found.\n",
      "HTTPError at url: https://docs.aws.amazon.com/IAM/latest/service-authorization/latest/reference/reference_policies_actions-resources-contextkeys.html\n",
      "HTTPError at url: https://docs.aws.amazon.com/IAM/latest/service-authorization/latest/reference/list_awssecretsmanager.html\n",
      "HTTPError at url: https://docs.aws.amazon.com/IAM/latest/service-authorization/latest/reference/list_awskeymanagementservice.html\n",
      "HTTPError at url: https://docs.aws.amazon.com/IAM/latest/service-authorization/latest/reference/list_identityandaccessmanagement.html\n",
      "485 documents\n",
      "CPU times: user 17 s, sys: 981 ms, total: 18 s\n",
      "Wall time: 5min 36s\n"
     ]
    }
   ],
   "source": [
    "%%time\n",
    "#Test xmlToList\n",
    "IAMurls = xmlToList('IAMurlsexample.xml')\n",
    "#print(IAMurls)\n",
    "print(str(len(IAMurls)) + \" URLs found.\")\n",
    "\n",
    "#Test htmlToJSON\n",
    "url1 = htmlToJSON(IAMurls, 'IAMurlsexample.JSON')\n",
    "#with open('IAMurlsexample.JSON') as json_file:\n",
    "    # data = json.load(json_file)\n",
    "    # print(data)\n",
    "    \n",
    "    \n",
    "# Load test data\n",
    "with open('IAMurlsexample.JSON') as in_file:\n",
    "    test_data = json.load(in_file)\n",
    "    \n",
    "titles = [item[0] for item in test_data['data']]\n",
    "documents = [item[1] for item in test_data['data']]\n",
    "\n",
    "print(f'{len(documents)} documents')"
   ]
  },
  {
   "cell_type": "markdown",
   "metadata": {},
   "source": [
    "### Testing on one policy: 'An access control policy shall be established, documented and reviewed based on business and information security requirements.'"
   ]
  },
  {
   "cell_type": "code",
   "execution_count": 6,
   "metadata": {},
   "outputs": [
    {
     "name": "stdout",
     "output_type": "stream",
     "text": [
      "485 documents loaded into corpus\n",
      "185 \t 0.686 \t https://docs.aws.amazon.com/IAM/latest/APIReference/API_CreateRole.html\n",
      "379 \t 0.660 \t https://docs.aws.amazon.com/IAM/latest/APIReference/API_ResetServiceSpecificCredential.html\n",
      "7 \t 0.650 \t https://docs.aws.amazon.com/IAM/latest/UserGuide/introduction_attribute-based-access-control.html\n",
      "172 \t 0.641 \t https://docs.aws.amazon.com/IAM/latest/APIReference/API_CreateUser.html\n",
      "35 \t 0.613 \t https://docs.aws.amazon.com/IAM/latest/UserGuide/id_roles_terms-and-concepts.html\n"
     ]
    }
   ],
   "source": [
    "# Test on one string\n",
    "query_string = 'An access control policy shall be established, documented and reviewed based on business and information security requirements.'\n",
    "similarities = docsim_obj.similarity_query(query_string, documents)\n",
    "\n",
    "# Output the similarity scores for top 5 documents\n",
    "for idx, score in (sorted(enumerate(similarities), reverse=True, key=lambda x: x[1])[:5]):\n",
    "    print(f'{idx} \\t {score:0.3f} \\t {titles[idx]}')"
   ]
  },
  {
   "cell_type": "markdown",
   "metadata": {},
   "source": [
    "## So far average time is around 5 mins for 1 search query compared with 1 cyber asset. "
   ]
  }
 ],
 "metadata": {
  "kernelspec": {
   "display_name": "Python 3",
   "language": "python",
   "name": "python3"
  },
  "language_info": {
   "codemirror_mode": {
    "name": "ipython",
    "version": 3
   },
   "file_extension": ".py",
   "mimetype": "text/x-python",
   "name": "python",
   "nbconvert_exporter": "python",
   "pygments_lexer": "ipython3",
   "version": "3.7.6"
  }
 },
 "nbformat": 4,
 "nbformat_minor": 4
}
