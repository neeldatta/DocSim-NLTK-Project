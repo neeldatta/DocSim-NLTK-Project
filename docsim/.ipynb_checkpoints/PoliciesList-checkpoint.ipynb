{
 "cells": [
  {
   "cell_type": "code",
   "execution_count": 1,
   "metadata": {},
   "outputs": [],
   "source": [
    "import json\n",
    "import docsim\n",
    "import re\n",
    "import csv\n",
    "from urllib.request import urlopen\n",
    "from urllib.error import HTTPError\n",
    "import pandas as pd\n",
    "from bs4 import BeautifulSoup"
   ]
  },
  {
   "cell_type": "code",
   "execution_count": 17,
   "metadata": {},
   "outputs": [
    {
     "data": {
      "text/plain": [
       "{'title': '5 - Information Security Policies',\n",
       " 'requirements': [{'ref': '5.1.1',\n",
       "   'title': 'Policies for Information Security',\n",
       "   'summary': 'A set of policies for information security shall be defined, approved by management, published and communicated to employees and relevant external parties.'},\n",
       "  {'ref': '5.1.2',\n",
       "   'title': 'Review of the Policies for Information Security',\n",
       "   'summary': 'The policies for information security shall be reviewed at planned intervals or if significant changes occur to ensure their continuing suitability, adequacy and effectiveness.'}]}"
      ]
     },
     "execution_count": 17,
     "metadata": {},
     "output_type": "execute_result"
    }
   ],
   "source": [
    "#Playing around with JupterOne's ISO 27002 policy JSON\n",
    "policies = pd.read_json('ISO27002J1.JSON')\n",
    "policies['sections'][0]"
   ]
  },
  {
   "cell_type": "code",
   "execution_count": 24,
   "metadata": {},
   "outputs": [],
   "source": [
    "plist = []\n",
    "for sec in policies['sections']:\n",
    "    for req in sec['requirements']:\n",
    "        plist.append(sec['title'] + ' ' + req['ref'] + ' : ' + req['title'] + ' : ' + req['summary'])"
   ]
  },
  {
   "cell_type": "code",
   "execution_count": 26,
   "metadata": {},
   "outputs": [
    {
     "data": {
      "text/plain": [
       "['5 - Information Security Policies 5.1.1 : Policies for Information Security : A set of policies for information security shall be defined, approved by management, published and communicated to employees and relevant external parties.',\n",
       " '5 - Information Security Policies 5.1.2 : Review of the Policies for Information Security : The policies for information security shall be reviewed at planned intervals or if significant changes occur to ensure their continuing suitability, adequacy and effectiveness.',\n",
       " '6 - Organization of Information Security 6.1.1 : Information Security Roles and Responsibilities : All information security responsibilities shall be defined and allocated.',\n",
       " '6 - Organization of Information Security 6.1.2 : Segregation of Duties : Conflicting duties and areas of responsibility shall be segregated to reduce opportunities for unauthorized or unintentional modification or misuse of the organization’s assets.',\n",
       " '6 - Organization of Information Security 6.1.3 : Contact with Authorities : Appropriate contacts with relevant authorities shall be maintained.']"
      ]
     },
     "execution_count": 26,
     "metadata": {},
     "output_type": "execute_result"
    }
   ],
   "source": [
    "plist = plist[:5]\n",
    "plist"
   ]
  },
  {
   "cell_type": "code",
   "execution_count": null,
   "metadata": {},
   "outputs": [],
   "source": []
  }
 ],
 "metadata": {
  "kernelspec": {
   "display_name": "Python 3",
   "language": "python",
   "name": "python3"
  },
  "language_info": {
   "codemirror_mode": {
    "name": "ipython",
    "version": 3
   },
   "file_extension": ".py",
   "mimetype": "text/x-python",
   "name": "python",
   "nbconvert_exporter": "python",
   "pygments_lexer": "ipython3",
   "version": "3.7.6"
  }
 },
 "nbformat": 4,
 "nbformat_minor": 4
}
